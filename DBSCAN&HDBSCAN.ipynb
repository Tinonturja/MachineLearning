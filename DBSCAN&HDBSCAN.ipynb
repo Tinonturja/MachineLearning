{
 "cells": [
  {
   "cell_type": "code",
   "execution_count": 2,
   "id": "8fabc810-6f18-43fd-bc60-6d0b1b510577",
   "metadata": {},
   "outputs": [
    {
     "name": "stdout",
     "output_type": "stream",
     "text": [
      "Requirement already satisfied: hdbscan in /opt/anaconda3/lib/python3.12/site-packages (0.8.40)\n",
      "Requirement already satisfied: numpy<3,>=1.20 in /opt/anaconda3/lib/python3.12/site-packages (from hdbscan) (1.26.4)\n",
      "Requirement already satisfied: scipy>=1.0 in /opt/anaconda3/lib/python3.12/site-packages (from hdbscan) (1.13.1)\n",
      "Requirement already satisfied: scikit-learn>=0.20 in /opt/anaconda3/lib/python3.12/site-packages (from hdbscan) (1.5.0)\n",
      "Requirement already satisfied: joblib>=1.0 in /opt/anaconda3/lib/python3.12/site-packages (from hdbscan) (1.4.2)\n",
      "Requirement already satisfied: threadpoolctl>=3.1.0 in /opt/anaconda3/lib/python3.12/site-packages (from scikit-learn>=0.20->hdbscan) (3.5.0)\n",
      "Collecting contextily\n",
      "  Downloading contextily-1.6.2-py3-none-any.whl.metadata (2.9 kB)\n",
      "Collecting geopy (from contextily)\n",
      "  Downloading geopy-2.4.1-py3-none-any.whl.metadata (6.8 kB)\n",
      "Requirement already satisfied: matplotlib in /opt/anaconda3/lib/python3.12/site-packages (from contextily) (3.9.0)\n",
      "Collecting mercantile (from contextily)\n",
      "  Downloading mercantile-1.2.1-py3-none-any.whl.metadata (4.8 kB)\n",
      "Requirement already satisfied: pillow in /opt/anaconda3/lib/python3.12/site-packages (from contextily) (10.4.0)\n",
      "Collecting rasterio (from contextily)\n",
      "  Downloading rasterio-1.4.3-cp312-cp312-macosx_14_0_arm64.whl.metadata (9.1 kB)\n",
      "Requirement already satisfied: requests in /opt/anaconda3/lib/python3.12/site-packages (from contextily) (2.32.3)\n",
      "Requirement already satisfied: joblib in /opt/anaconda3/lib/python3.12/site-packages (from contextily) (1.4.2)\n",
      "Requirement already satisfied: xyzservices in /opt/anaconda3/lib/python3.12/site-packages (from contextily) (2022.9.0)\n",
      "Collecting geographiclib<3,>=1.52 (from geopy->contextily)\n",
      "  Downloading geographiclib-2.1-py3-none-any.whl.metadata (1.6 kB)\n",
      "Requirement already satisfied: contourpy>=1.0.1 in /opt/anaconda3/lib/python3.12/site-packages (from matplotlib->contextily) (1.2.0)\n",
      "Requirement already satisfied: cycler>=0.10 in /opt/anaconda3/lib/python3.12/site-packages (from matplotlib->contextily) (0.11.0)\n",
      "Requirement already satisfied: fonttools>=4.22.0 in /opt/anaconda3/lib/python3.12/site-packages (from matplotlib->contextily) (4.51.0)\n",
      "Requirement already satisfied: kiwisolver>=1.3.1 in /opt/anaconda3/lib/python3.12/site-packages (from matplotlib->contextily) (1.4.4)\n",
      "Requirement already satisfied: numpy>=1.23 in /opt/anaconda3/lib/python3.12/site-packages (from matplotlib->contextily) (1.26.4)\n",
      "Requirement already satisfied: packaging>=20.0 in /opt/anaconda3/lib/python3.12/site-packages (from matplotlib->contextily) (24.1)\n",
      "Requirement already satisfied: pyparsing>=2.3.1 in /opt/anaconda3/lib/python3.12/site-packages (from matplotlib->contextily) (3.1.2)\n",
      "Requirement already satisfied: python-dateutil>=2.7 in /opt/anaconda3/lib/python3.12/site-packages (from matplotlib->contextily) (2.9.0.post0)\n",
      "Requirement already satisfied: click>=3.0 in /opt/anaconda3/lib/python3.12/site-packages (from mercantile->contextily) (8.1.7)\n",
      "Collecting affine (from rasterio->contextily)\n",
      "  Downloading affine-2.4.0-py3-none-any.whl.metadata (4.0 kB)\n",
      "Requirement already satisfied: attrs in /opt/anaconda3/lib/python3.12/site-packages (from rasterio->contextily) (23.1.0)\n",
      "Requirement already satisfied: certifi in /opt/anaconda3/lib/python3.12/site-packages (from rasterio->contextily) (2025.8.3)\n",
      "Collecting cligj>=0.5 (from rasterio->contextily)\n",
      "  Downloading cligj-0.7.2-py3-none-any.whl.metadata (5.0 kB)\n",
      "Collecting click-plugins (from rasterio->contextily)\n",
      "  Downloading click_plugins-1.1.1.2-py2.py3-none-any.whl.metadata (6.5 kB)\n",
      "Requirement already satisfied: charset-normalizer<4,>=2 in /opt/anaconda3/lib/python3.12/site-packages (from requests->contextily) (3.3.2)\n",
      "Requirement already satisfied: idna<4,>=2.5 in /opt/anaconda3/lib/python3.12/site-packages (from requests->contextily) (3.7)\n",
      "Requirement already satisfied: urllib3<3,>=1.21.1 in /opt/anaconda3/lib/python3.12/site-packages (from requests->contextily) (2.2.3)\n",
      "Requirement already satisfied: six>=1.5 in /opt/anaconda3/lib/python3.12/site-packages (from python-dateutil>=2.7->matplotlib->contextily) (1.16.0)\n",
      "Downloading contextily-1.6.2-py3-none-any.whl (17 kB)\n",
      "Downloading geopy-2.4.1-py3-none-any.whl (125 kB)\n",
      "Downloading mercantile-1.2.1-py3-none-any.whl (14 kB)\n",
      "Downloading rasterio-1.4.3-cp312-cp312-macosx_14_0_arm64.whl (18.7 MB)\n",
      "\u001b[2K   \u001b[90m━━━━━━━━━━━━━━━━━━━━━━━━━━━━━━━━━━━━━━━━\u001b[0m \u001b[32m18.7/18.7 MB\u001b[0m \u001b[31m4.4 MB/s\u001b[0m eta \u001b[36m0:00:00\u001b[0ma \u001b[36m0:00:01\u001b[0m\n",
      "Downloading cligj-0.7.2-py3-none-any.whl (7.1 kB)\n",
      "Downloading geographiclib-2.1-py3-none-any.whl (40 kB)\n",
      "Downloading affine-2.4.0-py3-none-any.whl (15 kB)\n",
      "Downloading click_plugins-1.1.1.2-py2.py3-none-any.whl (11 kB)\n",
      "Installing collected packages: mercantile, geographiclib, cligj, click-plugins, affine, rasterio, geopy, contextily\n",
      "Successfully installed affine-2.4.0 click-plugins-1.1.1.2 cligj-0.7.2 contextily-1.6.2 geographiclib-2.1 geopy-2.4.1 mercantile-1.2.1 rasterio-1.4.3\n",
      "Collecting shapely\n",
      "  Downloading shapely-2.1.1-cp312-cp312-macosx_11_0_arm64.whl.metadata (6.8 kB)\n",
      "Requirement already satisfied: numpy>=1.21 in /opt/anaconda3/lib/python3.12/site-packages (from shapely) (1.26.4)\n",
      "Downloading shapely-2.1.1-cp312-cp312-macosx_11_0_arm64.whl (1.6 MB)\n",
      "\u001b[2K   \u001b[90m━━━━━━━━━━━━━━━━━━━━━━━━━━━━━━━━━━━━━━━━\u001b[0m \u001b[32m1.6/1.6 MB\u001b[0m \u001b[31m5.9 MB/s\u001b[0m eta \u001b[36m0:00:00\u001b[0ma \u001b[36m0:00:01\u001b[0m\n",
      "Installing collected packages: shapely\n",
      "Successfully installed shapely-2.1.1\n",
      "Collecting geopandas\n",
      "  Downloading geopandas-1.1.1-py3-none-any.whl.metadata (2.3 kB)\n",
      "Requirement already satisfied: numpy>=1.24 in /opt/anaconda3/lib/python3.12/site-packages (from geopandas) (1.26.4)\n",
      "Collecting pyogrio>=0.7.2 (from geopandas)\n",
      "  Downloading pyogrio-0.11.1-cp312-cp312-macosx_12_0_arm64.whl.metadata (5.3 kB)\n",
      "Requirement already satisfied: packaging in /opt/anaconda3/lib/python3.12/site-packages (from geopandas) (24.1)\n",
      "Requirement already satisfied: pandas>=2.0.0 in /opt/anaconda3/lib/python3.12/site-packages (from geopandas) (2.2.2)\n",
      "Collecting pyproj>=3.5.0 (from geopandas)\n",
      "  Downloading pyproj-3.7.2-cp312-cp312-macosx_14_0_arm64.whl.metadata (31 kB)\n",
      "Requirement already satisfied: shapely>=2.0.0 in /opt/anaconda3/lib/python3.12/site-packages (from geopandas) (2.1.1)\n",
      "Requirement already satisfied: python-dateutil>=2.8.2 in /opt/anaconda3/lib/python3.12/site-packages (from pandas>=2.0.0->geopandas) (2.9.0.post0)\n",
      "Requirement already satisfied: pytz>=2020.1 in /opt/anaconda3/lib/python3.12/site-packages (from pandas>=2.0.0->geopandas) (2024.1)\n",
      "Requirement already satisfied: tzdata>=2022.7 in /opt/anaconda3/lib/python3.12/site-packages (from pandas>=2.0.0->geopandas) (2023.3)\n",
      "Requirement already satisfied: certifi in /opt/anaconda3/lib/python3.12/site-packages (from pyogrio>=0.7.2->geopandas) (2025.8.3)\n",
      "Requirement already satisfied: six>=1.5 in /opt/anaconda3/lib/python3.12/site-packages (from python-dateutil>=2.8.2->pandas>=2.0.0->geopandas) (1.16.0)\n",
      "Downloading geopandas-1.1.1-py3-none-any.whl (338 kB)\n",
      "Downloading pyogrio-0.11.1-cp312-cp312-macosx_12_0_arm64.whl (19.5 MB)\n",
      "\u001b[2K   \u001b[90m━━━━━━━━━━━━━━━━━━━━━━━━━━━━━━━━━━━━━━━━\u001b[0m \u001b[32m19.5/19.5 MB\u001b[0m \u001b[31m4.3 MB/s\u001b[0m eta \u001b[36m0:00:00\u001b[0ma \u001b[36m0:00:01\u001b[0m\n",
      "Downloading pyproj-3.7.2-cp312-cp312-macosx_14_0_arm64.whl (4.6 MB)\n",
      "\u001b[2K   \u001b[90m━━━━━━━━━━━━━━━━━━━━━━━━━━━━━━━━━━━━━━━━\u001b[0m \u001b[32m4.6/4.6 MB\u001b[0m \u001b[31m5.5 MB/s\u001b[0m eta \u001b[36m0:00:00\u001b[0ma \u001b[36m0:00:01\u001b[0m\n",
      "Installing collected packages: pyproj, pyogrio, geopandas\n",
      "Successfully installed geopandas-1.1.1 pyogrio-0.11.1 pyproj-3.7.2\n"
     ]
    }
   ],
   "source": [
    "!pip install hdbscan\n",
    "!pip install contextily\n",
    "!pip install shapely\n",
    "!pip install geopandas"
   ]
  },
  {
   "cell_type": "code",
   "execution_count": 5,
   "id": "030ccddb-3043-4dca-9e5d-4ca55b1a5185",
   "metadata": {},
   "outputs": [],
   "source": [
    "import numpy as np\n",
    "import pandas as pd\n",
    "import matplotlib.pyplot as plt\n",
    "%matplotlib inline\n",
    "\n",
    "import sklearn\n",
    "from sklearn.preprocessing import StandardScaler\n",
    "from sklearn.model_selection import train_test_split\n",
    "import hdbscan\n",
    "from sklearn.cluster import DBSCAN\n",
    "\n",
    "\n",
    "import geopandas as gpd   # pandas dataframe-like geodataframes for geographical data\n",
    "import contextily as ctx   # used for obtianing a basemap of Canada\n",
    "from shapely.geometry import Point\n",
    "\n",
    "\n",
    "import warnings\n",
    "warnings.filterwarnings('ignore')"
   ]
  },
  {
   "cell_type": "markdown",
   "id": "da5ac885-baf2-4da8-aa0c-a588223a1c12",
   "metadata": {},
   "source": [
    "## Download the canada map"
   ]
  },
  {
   "cell_type": "code",
   "execution_count": 6,
   "id": "899f5426-2f63-433a-a369-8efed823c6c7",
   "metadata": {},
   "outputs": [
    {
     "name": "stdout",
     "output_type": "stream",
     "text": [
      "Download and extracted: Canada.tif\n"
     ]
    }
   ],
   "source": [
    "import requests\n",
    "import zipfile\n",
    "import io\n",
    "import os\n",
    "\n",
    "zip_url_file = 'https://cf-courses-data.s3.us.cloud-object-storage.appdomain.cloud/YcUk-ytgrPkmvZAh5bf7zA/Canada.zip'\n",
    "\n",
    "output_dir = './'\n",
    "\n",
    "os.makedirs(output_dir, exist_ok = True)\n",
    "\n",
    "# Download the zip file\n",
    "response = requests.get(zip_url_file)\n",
    "response.raise_for_status() # ensure the request was successful\n",
    "\n",
    "# open the zip file in memory\n",
    "with zipfile.ZipFile(io.BytesIO(response.content)) as zip_ref:\n",
    "    for file_name in zip_ref.namelist():\n",
    "        if file_name.endswith('.tif'):\n",
    "            zip_ref.extract(file_name,output_dir)\n",
    "            print(f\"Download and extracted: {file_name}\")"
   ]
  },
  {
   "cell_type": "markdown",
   "id": "08ddf5ef-40a2-4a66-b971-b74253ad7738",
   "metadata": {},
   "source": [
    "## Include a plotting Function"
   ]
  },
  {
   "cell_type": "code",
   "execution_count": 7,
   "id": "18bdf989-34c8-42c9-a108-13f44727a3c0",
   "metadata": {},
   "outputs": [],
   "source": [
    "def plot_clustered_locations(df,title = \"Museums Clustered by Proximity\"):\n",
    "    \"\"\"\n",
    "    Plots clustered locations and overlays on a basemap.\n",
    "\n",
    "\n",
    "    Parameters:\n",
    "    - df.Dataframe containing 'Latitude', 'Longitude, and 'Clustercolumns\n",
    "    -title: str, title of the plot\n",
    "    \n",
    "    \"\"\"\n",
    "\n",
    "    # Load the coordinates into a dataFrame\n",
    "    gdf = gpd.GeoDataFrame(df,geometry = gpd.points_from_xy(df['Longitude'], df['Latitude']), crs = 'EPSG:4326')\n",
    "\n",
    "    # Reproject to web mercator to align with basemap\n",
    "    gdf = gdf.to_crs(epsg = 3857)\n",
    "\n",
    "    # Create the plot\n",
    "    fig,ax = plt.subplots(figsize = (15,10))\n",
    "\n",
    "    # Separate non-noise, or clustered points from noise, or unclustered points\n",
    "    non_noise = gdf[gdf['Cluster'] != -1]\n",
    "    noise = gdf[gdf['Cluster'] == -1]\n",
    "    \n",
    "    # Plot noise points \n",
    "    noise.plot(ax=ax, color='k', markersize=30, ec='r', alpha=1, label='Noise')\n",
    "    \n",
    "    # Plot clustered points, colured by 'Cluster' number\n",
    "    non_noise.plot(ax=ax, column='Cluster', cmap='tab10', markersize=30, ec='k', legend=False, alpha=0.6)\n",
    "    \n",
    "    # Add basemap of  Canada\n",
    "    ctx.add_basemap(ax, source='./Canada.tif', zoom=4)\n",
    "    \n",
    "    # Format plot\n",
    "    plt.title(title, )\n",
    "    plt.xlabel('Longitude', )\n",
    "    plt.ylabel('Latitude', )\n",
    "    ax.set_xticks([])\n",
    "    ax.set_yticks([])\n",
    "    plt.tight_layout()\n",
    "    \n",
    "    # Show the plot\n",
    "    plt.show()\n"
   ]
  },
  {
   "cell_type": "code",
   "execution_count": 8,
   "id": "cb72465f-367b-4495-84aa-83d4bfc7f12e",
   "metadata": {},
   "outputs": [],
   "source": [
    "url = 'https://cf-courses-data.s3.us.cloud-object-storage.appdomain.cloud/r-maSj5Yegvw2sJraT15FA/ODCAF-v1-0.csv'\n",
    "df = pd.read_csv(url, encoding = \"ISO-8859-1\")"
   ]
  },
  {
   "cell_type": "code",
   "execution_count": 9,
   "id": "a220ff67-74e0-4b08-97ce-f88f18a1e1e2",
   "metadata": {},
   "outputs": [
    {
     "data": {
      "text/html": [
       "<div>\n",
       "<style scoped>\n",
       "    .dataframe tbody tr th:only-of-type {\n",
       "        vertical-align: middle;\n",
       "    }\n",
       "\n",
       "    .dataframe tbody tr th {\n",
       "        vertical-align: top;\n",
       "    }\n",
       "\n",
       "    .dataframe thead th {\n",
       "        text-align: right;\n",
       "    }\n",
       "</style>\n",
       "<table border=\"1\" class=\"dataframe\">\n",
       "  <thead>\n",
       "    <tr style=\"text-align: right;\">\n",
       "      <th></th>\n",
       "      <th>Index</th>\n",
       "      <th>Facility_Name</th>\n",
       "      <th>Source_Facility_Type</th>\n",
       "      <th>ODCAF_Facility_Type</th>\n",
       "      <th>Provider</th>\n",
       "      <th>Unit</th>\n",
       "      <th>Street_No</th>\n",
       "      <th>Street_Name</th>\n",
       "      <th>Postal_Code</th>\n",
       "      <th>City</th>\n",
       "      <th>Prov_Terr</th>\n",
       "      <th>Source_Format_Address</th>\n",
       "      <th>CSD_Name</th>\n",
       "      <th>CSDUID</th>\n",
       "      <th>PRUID</th>\n",
       "      <th>Latitude</th>\n",
       "      <th>Longitude</th>\n",
       "    </tr>\n",
       "  </thead>\n",
       "  <tbody>\n",
       "    <tr>\n",
       "      <th>0</th>\n",
       "      <td>1</td>\n",
       "      <td>#Hashtag Gallery</td>\n",
       "      <td>..</td>\n",
       "      <td>gallery</td>\n",
       "      <td>toronto</td>\n",
       "      <td>..</td>\n",
       "      <td>801</td>\n",
       "      <td>dundas st w</td>\n",
       "      <td>M6J 1V2</td>\n",
       "      <td>toronto</td>\n",
       "      <td>on</td>\n",
       "      <td>801 dundas st w</td>\n",
       "      <td>Toronto</td>\n",
       "      <td>3520005</td>\n",
       "      <td>35</td>\n",
       "      <td>43.65169472</td>\n",
       "      <td>-79.40803272</td>\n",
       "    </tr>\n",
       "    <tr>\n",
       "      <th>1</th>\n",
       "      <td>2</td>\n",
       "      <td>'Ksan Historical Village &amp; Museum</td>\n",
       "      <td>historic site-building or park</td>\n",
       "      <td>museum</td>\n",
       "      <td>canadian museums association</td>\n",
       "      <td>..</td>\n",
       "      <td>1500</td>\n",
       "      <td>62 hwy</td>\n",
       "      <td>V0J 1Y0</td>\n",
       "      <td>hazelton</td>\n",
       "      <td>bc</td>\n",
       "      <td>1500 hwy 62 hazelton british columbia v0j 1y0 ...</td>\n",
       "      <td>Hazelton</td>\n",
       "      <td>5949022</td>\n",
       "      <td>59</td>\n",
       "      <td>55.2645508</td>\n",
       "      <td>-127.6428124</td>\n",
       "    </tr>\n",
       "    <tr>\n",
       "      <th>2</th>\n",
       "      <td>3</td>\n",
       "      <td>'School Days' Museum</td>\n",
       "      <td>community/regional museum</td>\n",
       "      <td>museum</td>\n",
       "      <td>canadian museums association</td>\n",
       "      <td>..</td>\n",
       "      <td>427</td>\n",
       "      <td>queen st</td>\n",
       "      <td>E3B 5R6</td>\n",
       "      <td>fredericton</td>\n",
       "      <td>nb</td>\n",
       "      <td>427 queen st fredericton new brunswick e3b 5r6...</td>\n",
       "      <td>Fredericton</td>\n",
       "      <td>1310032</td>\n",
       "      <td>13</td>\n",
       "      <td>45.963283</td>\n",
       "      <td>-66.6419017</td>\n",
       "    </tr>\n",
       "    <tr>\n",
       "      <th>3</th>\n",
       "      <td>4</td>\n",
       "      <td>10 Austin Street</td>\n",
       "      <td>built heritage properties</td>\n",
       "      <td>heritage or historic site</td>\n",
       "      <td>moncton</td>\n",
       "      <td>..</td>\n",
       "      <td>10</td>\n",
       "      <td>austin st</td>\n",
       "      <td>E1C 1Z6</td>\n",
       "      <td>moncton</td>\n",
       "      <td>nb</td>\n",
       "      <td>10 austin st</td>\n",
       "      <td>Moncton</td>\n",
       "      <td>1307022</td>\n",
       "      <td>13</td>\n",
       "      <td>46.09247776</td>\n",
       "      <td>-64.78022946</td>\n",
       "    </tr>\n",
       "    <tr>\n",
       "      <th>4</th>\n",
       "      <td>5</td>\n",
       "      <td>10 Gates Dancing Inc.</td>\n",
       "      <td>arts</td>\n",
       "      <td>miscellaneous</td>\n",
       "      <td>ottawa</td>\n",
       "      <td>..</td>\n",
       "      <td>..</td>\n",
       "      <td>..</td>\n",
       "      <td>..</td>\n",
       "      <td>ottawa</td>\n",
       "      <td>on</td>\n",
       "      <td>..</td>\n",
       "      <td>Ottawa</td>\n",
       "      <td>3506008</td>\n",
       "      <td>35</td>\n",
       "      <td>45.40856224</td>\n",
       "      <td>-75.71536766</td>\n",
       "    </tr>\n",
       "  </tbody>\n",
       "</table>\n",
       "</div>"
      ],
      "text/plain": [
       "   Index                      Facility_Name            Source_Facility_Type  \\\n",
       "0      1                   #Hashtag Gallery                              ..   \n",
       "1      2  'Ksan Historical Village & Museum  historic site-building or park   \n",
       "2      3               'School Days' Museum       community/regional museum   \n",
       "3      4                   10 Austin Street       built heritage properties   \n",
       "4      5              10 Gates Dancing Inc.                            arts   \n",
       "\n",
       "         ODCAF_Facility_Type                      Provider Unit Street_No  \\\n",
       "0                    gallery                       toronto   ..       801   \n",
       "1                     museum  canadian museums association   ..      1500   \n",
       "2                     museum  canadian museums association   ..       427   \n",
       "3  heritage or historic site                       moncton   ..        10   \n",
       "4              miscellaneous                        ottawa   ..        ..   \n",
       "\n",
       "   Street_Name Postal_Code         City Prov_Terr  \\\n",
       "0  dundas st w     M6J 1V2      toronto        on   \n",
       "1       62 hwy     V0J 1Y0     hazelton        bc   \n",
       "2     queen st     E3B 5R6  fredericton        nb   \n",
       "3    austin st     E1C 1Z6      moncton        nb   \n",
       "4           ..          ..       ottawa        on   \n",
       "\n",
       "                               Source_Format_Address     CSD_Name   CSDUID  \\\n",
       "0                                    801 dundas st w      Toronto  3520005   \n",
       "1  1500 hwy 62 hazelton british columbia v0j 1y0 ...     Hazelton  5949022   \n",
       "2  427 queen st fredericton new brunswick e3b 5r6...  Fredericton  1310032   \n",
       "3                                       10 austin st      Moncton  1307022   \n",
       "4                                                 ..       Ottawa  3506008   \n",
       "\n",
       "  PRUID     Latitude     Longitude  \n",
       "0    35  43.65169472  -79.40803272  \n",
       "1    59   55.2645508  -127.6428124  \n",
       "2    13    45.963283   -66.6419017  \n",
       "3    13  46.09247776  -64.78022946  \n",
       "4    35  45.40856224  -75.71536766  "
      ]
     },
     "execution_count": 9,
     "metadata": {},
     "output_type": "execute_result"
    }
   ],
   "source": [
    "df.head()"
   ]
  },
  {
   "cell_type": "code",
   "execution_count": 11,
   "id": "c26f96c0-2f7c-4d5a-a266-00f03a8eb710",
   "metadata": {},
   "outputs": [
    {
     "data": {
      "text/plain": [
       "Index(['Index', 'Facility_Name', 'Source_Facility_Type', 'ODCAF_Facility_Type',\n",
       "       'Provider', 'Unit', 'Street_No', 'Street_Name', 'Postal_Code', 'City',\n",
       "       'Prov_Terr', 'Source_Format_Address', 'CSD_Name', 'CSDUID', 'PRUID',\n",
       "       'Latitude', 'Longitude'],\n",
       "      dtype='object')"
      ]
     },
     "execution_count": 11,
     "metadata": {},
     "output_type": "execute_result"
    }
   ],
   "source": [
    "df.columns"
   ]
  },
  {
   "cell_type": "code",
   "execution_count": 12,
   "id": "8ec54cf3-29b8-45af-a275-7c3e8dc23d79",
   "metadata": {},
   "outputs": [
    {
     "data": {
      "text/plain": [
       "(7972, 17)"
      ]
     },
     "execution_count": 12,
     "metadata": {},
     "output_type": "execute_result"
    }
   ],
   "source": [
    "df.shape"
   ]
  },
  {
   "cell_type": "code",
   "execution_count": 13,
   "id": "e621b34d-82f0-4729-ac81-1f2f48c8f59d",
   "metadata": {},
   "outputs": [
    {
     "data": {
      "text/plain": [
       "Index                    0\n",
       "Facility_Name            0\n",
       "Source_Facility_Type     0\n",
       "ODCAF_Facility_Type      0\n",
       "Provider                 0\n",
       "Unit                     0\n",
       "Street_No                0\n",
       "Street_Name              0\n",
       "Postal_Code              0\n",
       "City                     0\n",
       "Prov_Terr                0\n",
       "Source_Format_Address    0\n",
       "CSD_Name                 0\n",
       "CSDUID                   0\n",
       "PRUID                    0\n",
       "Latitude                 0\n",
       "Longitude                0\n",
       "dtype: int64"
      ]
     },
     "execution_count": 13,
     "metadata": {},
     "output_type": "execute_result"
    }
   ],
   "source": [
    "# Finding missing values\n",
    "df.isnull().sum()"
   ]
  },
  {
   "cell_type": "code",
   "execution_count": 26,
   "id": "441182e6-efde-4043-a302-285449e33139",
   "metadata": {},
   "outputs": [
    {
     "data": {
      "text/plain": [
       "ODCAF_Facility_Type\n",
       "library or archives                     3013\n",
       "museum                                  1938\n",
       "gallery                                  810\n",
       "heritage or historic site                620\n",
       "theatre/performance and concert hall     583\n",
       "festival site                            346\n",
       "miscellaneous                            343\n",
       "art or cultural centre                   225\n",
       "artist                                    94\n",
       "Name: count, dtype: int64"
      ]
     },
     "execution_count": 26,
     "metadata": {},
     "output_type": "execute_result"
    }
   ],
   "source": [
    "df['ODCAF_Facility_Type'].value_counts()"
   ]
  },
  {
   "cell_type": "code",
   "execution_count": 29,
   "id": "b12b969e-9f32-4576-9dbd-4ed27012c3ad",
   "metadata": {},
   "outputs": [],
   "source": [
    "new_df = df[df['ODCAF_Facility_Type']== 'museum']"
   ]
  },
  {
   "cell_type": "code",
   "execution_count": 30,
   "id": "97f4273e-78af-4a60-a2cc-f93388908a7f",
   "metadata": {},
   "outputs": [
    {
     "data": {
      "text/html": [
       "<div>\n",
       "<style scoped>\n",
       "    .dataframe tbody tr th:only-of-type {\n",
       "        vertical-align: middle;\n",
       "    }\n",
       "\n",
       "    .dataframe tbody tr th {\n",
       "        vertical-align: top;\n",
       "    }\n",
       "\n",
       "    .dataframe thead th {\n",
       "        text-align: right;\n",
       "    }\n",
       "</style>\n",
       "<table border=\"1\" class=\"dataframe\">\n",
       "  <thead>\n",
       "    <tr style=\"text-align: right;\">\n",
       "      <th></th>\n",
       "      <th>Index</th>\n",
       "      <th>Facility_Name</th>\n",
       "      <th>Source_Facility_Type</th>\n",
       "      <th>ODCAF_Facility_Type</th>\n",
       "      <th>Provider</th>\n",
       "      <th>Unit</th>\n",
       "      <th>Street_No</th>\n",
       "      <th>Street_Name</th>\n",
       "      <th>Postal_Code</th>\n",
       "      <th>City</th>\n",
       "      <th>Prov_Terr</th>\n",
       "      <th>Source_Format_Address</th>\n",
       "      <th>CSD_Name</th>\n",
       "      <th>CSDUID</th>\n",
       "      <th>PRUID</th>\n",
       "      <th>Latitude</th>\n",
       "      <th>Longitude</th>\n",
       "    </tr>\n",
       "  </thead>\n",
       "  <tbody>\n",
       "    <tr>\n",
       "      <th>1</th>\n",
       "      <td>2</td>\n",
       "      <td>'Ksan Historical Village &amp; Museum</td>\n",
       "      <td>historic site-building or park</td>\n",
       "      <td>museum</td>\n",
       "      <td>canadian museums association</td>\n",
       "      <td>..</td>\n",
       "      <td>1500</td>\n",
       "      <td>62 hwy</td>\n",
       "      <td>V0J 1Y0</td>\n",
       "      <td>hazelton</td>\n",
       "      <td>bc</td>\n",
       "      <td>1500 hwy 62 hazelton british columbia v0j 1y0 ...</td>\n",
       "      <td>Hazelton</td>\n",
       "      <td>5949022</td>\n",
       "      <td>59</td>\n",
       "      <td>55.2645508</td>\n",
       "      <td>-127.6428124</td>\n",
       "    </tr>\n",
       "    <tr>\n",
       "      <th>2</th>\n",
       "      <td>3</td>\n",
       "      <td>'School Days' Museum</td>\n",
       "      <td>community/regional museum</td>\n",
       "      <td>museum</td>\n",
       "      <td>canadian museums association</td>\n",
       "      <td>..</td>\n",
       "      <td>427</td>\n",
       "      <td>queen st</td>\n",
       "      <td>E3B 5R6</td>\n",
       "      <td>fredericton</td>\n",
       "      <td>nb</td>\n",
       "      <td>427 queen st fredericton new brunswick e3b 5r6...</td>\n",
       "      <td>Fredericton</td>\n",
       "      <td>1310032</td>\n",
       "      <td>13</td>\n",
       "      <td>45.963283</td>\n",
       "      <td>-66.6419017</td>\n",
       "    </tr>\n",
       "    <tr>\n",
       "      <th>8</th>\n",
       "      <td>10</td>\n",
       "      <td>12 Service Battalion Museum</td>\n",
       "      <td>military museum or fort</td>\n",
       "      <td>museum</td>\n",
       "      <td>canadian museums association</td>\n",
       "      <td>..</td>\n",
       "      <td>5500</td>\n",
       "      <td>no 4 rd</td>\n",
       "      <td>V6X 3L5</td>\n",
       "      <td>richmond</td>\n",
       "      <td>bc</td>\n",
       "      <td>5500 no. 4 rd the sherman armoury richmond bri...</td>\n",
       "      <td>Richmond</td>\n",
       "      <td>5915015</td>\n",
       "      <td>59</td>\n",
       "      <td>49.1763542</td>\n",
       "      <td>-123.112783</td>\n",
       "    </tr>\n",
       "    <tr>\n",
       "      <th>13</th>\n",
       "      <td>15</td>\n",
       "      <td>15th Field Artillery Regiment Museum And Archives</td>\n",
       "      <td>museum/gallery</td>\n",
       "      <td>museum</td>\n",
       "      <td>vancouver</td>\n",
       "      <td>..</td>\n",
       "      <td>2025</td>\n",
       "      <td>11th av w</td>\n",
       "      <td>V6J 2C7</td>\n",
       "      <td>vancouver</td>\n",
       "      <td>bc</td>\n",
       "      <td>2025 w 11th av vancouver bc v6j 2c7</td>\n",
       "      <td>Vancouver</td>\n",
       "      <td>5915022</td>\n",
       "      <td>59</td>\n",
       "      <td>49.261938</td>\n",
       "      <td>-123.151123</td>\n",
       "    </tr>\n",
       "    <tr>\n",
       "      <th>15</th>\n",
       "      <td>18</td>\n",
       "      <td>17 Wing Heritage Collection</td>\n",
       "      <td>aeronautics and space museum transportation mu...</td>\n",
       "      <td>museum</td>\n",
       "      <td>canadian museums association</td>\n",
       "      <td>..</td>\n",
       "      <td>..</td>\n",
       "      <td>..</td>\n",
       "      <td>R3J 3Y5</td>\n",
       "      <td>winnipeg</td>\n",
       "      <td>mb</td>\n",
       "      <td>air heritage park air force way winnipeg manit...</td>\n",
       "      <td>Winnipeg</td>\n",
       "      <td>4611040</td>\n",
       "      <td>46</td>\n",
       "      <td>49.88955855</td>\n",
       "      <td>-97.23574396</td>\n",
       "    </tr>\n",
       "  </tbody>\n",
       "</table>\n",
       "</div>"
      ],
      "text/plain": [
       "    Index                                      Facility_Name  \\\n",
       "1       2                  'Ksan Historical Village & Museum   \n",
       "2       3                               'School Days' Museum   \n",
       "8      10                        12 Service Battalion Museum   \n",
       "13     15  15th Field Artillery Regiment Museum And Archives   \n",
       "15     18                        17 Wing Heritage Collection   \n",
       "\n",
       "                                 Source_Facility_Type ODCAF_Facility_Type  \\\n",
       "1                      historic site-building or park              museum   \n",
       "2                           community/regional museum              museum   \n",
       "8                             military museum or fort              museum   \n",
       "13                                     museum/gallery              museum   \n",
       "15  aeronautics and space museum transportation mu...              museum   \n",
       "\n",
       "                        Provider Unit Street_No Street_Name Postal_Code  \\\n",
       "1   canadian museums association   ..      1500      62 hwy     V0J 1Y0   \n",
       "2   canadian museums association   ..       427    queen st     E3B 5R6   \n",
       "8   canadian museums association   ..      5500     no 4 rd     V6X 3L5   \n",
       "13                     vancouver   ..      2025   11th av w     V6J 2C7   \n",
       "15  canadian museums association   ..        ..          ..     R3J 3Y5   \n",
       "\n",
       "           City Prov_Terr                              Source_Format_Address  \\\n",
       "1      hazelton        bc  1500 hwy 62 hazelton british columbia v0j 1y0 ...   \n",
       "2   fredericton        nb  427 queen st fredericton new brunswick e3b 5r6...   \n",
       "8      richmond        bc  5500 no. 4 rd the sherman armoury richmond bri...   \n",
       "13    vancouver        bc                2025 w 11th av vancouver bc v6j 2c7   \n",
       "15     winnipeg        mb  air heritage park air force way winnipeg manit...   \n",
       "\n",
       "       CSD_Name   CSDUID PRUID     Latitude     Longitude  \n",
       "1      Hazelton  5949022    59   55.2645508  -127.6428124  \n",
       "2   Fredericton  1310032    13    45.963283   -66.6419017  \n",
       "8      Richmond  5915015    59   49.1763542   -123.112783  \n",
       "13    Vancouver  5915022    59    49.261938   -123.151123  \n",
       "15     Winnipeg  4611040    46  49.88955855  -97.23574396  "
      ]
     },
     "execution_count": 30,
     "metadata": {},
     "output_type": "execute_result"
    }
   ],
   "source": [
    "new_df.head()"
   ]
  },
  {
   "cell_type": "code",
   "execution_count": 31,
   "id": "be2e735c-c909-4319-946e-05b757ff3272",
   "metadata": {},
   "outputs": [
    {
     "data": {
      "text/plain": [
       "(1938, 17)"
      ]
     },
     "execution_count": 31,
     "metadata": {},
     "output_type": "execute_result"
    }
   ],
   "source": [
    "new_df.shape"
   ]
  },
  {
   "cell_type": "code",
   "execution_count": 32,
   "id": "9c821249-65bb-4a9b-8e36-a02f7f087f51",
   "metadata": {},
   "outputs": [],
   "source": [
    "X = new_df[['Latitude', 'Longitude']].to_numpy()"
   ]
  },
  {
   "cell_type": "code",
   "execution_count": 33,
   "id": "5b5bdbf7-e6e1-44d5-8e53-3563561a8118",
   "metadata": {},
   "outputs": [
    {
     "data": {
      "text/plain": [
       "(1938, 2)"
      ]
     },
     "execution_count": 33,
     "metadata": {},
     "output_type": "execute_result"
    }
   ],
   "source": [
    "X.shape"
   ]
  },
  {
   "cell_type": "code",
   "execution_count": 34,
   "id": "748824e6-1d95-4166-84c9-3f7eeec08f12",
   "metadata": {},
   "outputs": [
    {
     "data": {
      "text/plain": [
       "numpy.ndarray"
      ]
     },
     "execution_count": 34,
     "metadata": {},
     "output_type": "execute_result"
    }
   ],
   "source": [
    "type(X[:,1])"
   ]
  },
  {
   "cell_type": "markdown",
   "id": "8702e66b-8e8f-4832-8d28-cd7b635e93b9",
   "metadata": {},
   "source": [
    "## Build a DBSCAN Model"
   ]
  },
  {
   "cell_type": "code",
   "execution_count": 45,
   "id": "38092e38-7c29-43c5-920e-9c408d7d92a2",
   "metadata": {},
   "outputs": [],
   "source": [
    "# In this case we know how to scale the coordinates. Using standardization would be an error becaues we aren't using the full range of the lat/lng coordinates.\n",
    "# Since latitude has a range of +/- 90 degrees and longitude ranges from 0 to 360 degrees, the correct scaling is to double the longitude coordinates (or half the Latitudes)\n",
    "\n",
    "coords_scaled = df.copy()\n",
    "coords_scaled['Latitude'] = 2 * coords_scaled['Latitude']"
   ]
  },
  {
   "cell_type": "markdown",
   "id": "2acd8213-7866-4a51-bab7-cc708ad12f99",
   "metadata": {},
   "source": [
    "## Apply DBSCAN with Eucledian distance to the "
   ]
  },
  {
   "cell_type": "code",
   "execution_count": 47,
   "id": "f026b2ac-0677-40d0-af30-b7286ad62c80",
   "metadata": {},
   "outputs": [
    {
     "name": "stdout",
     "output_type": "stream",
     "text": [
      "<class 'pandas.core.frame.DataFrame'>\n",
      "RangeIndex: 7972 entries, 0 to 7971\n",
      "Data columns (total 17 columns):\n",
      " #   Column                 Non-Null Count  Dtype \n",
      "---  ------                 --------------  ----- \n",
      " 0   Index                  7972 non-null   int64 \n",
      " 1   Facility_Name          7972 non-null   object\n",
      " 2   Source_Facility_Type   7972 non-null   object\n",
      " 3   ODCAF_Facility_Type    7972 non-null   object\n",
      " 4   Provider               7972 non-null   object\n",
      " 5   Unit                   7972 non-null   object\n",
      " 6   Street_No              7972 non-null   object\n",
      " 7   Street_Name            7972 non-null   object\n",
      " 8   Postal_Code            7972 non-null   object\n",
      " 9   City                   7972 non-null   object\n",
      " 10  Prov_Terr              7972 non-null   object\n",
      " 11  Source_Format_Address  7972 non-null   object\n",
      " 12  CSD_Name               7972 non-null   object\n",
      " 13  CSDUID                 7972 non-null   object\n",
      " 14  PRUID                  7972 non-null   object\n",
      " 15  Latitude               7972 non-null   object\n",
      " 16  Longitude              7972 non-null   object\n",
      "dtypes: int64(1), object(16)\n",
      "memory usage: 1.0+ MB\n"
     ]
    }
   ],
   "source": [
    "coords_scaled.info()"
   ]
  },
  {
   "cell_type": "code",
   "execution_count": 42,
   "id": "22cb3f25-31c2-4c03-b47b-8ba3447631cc",
   "metadata": {},
   "outputs": [],
   "source": [
    "min_samples = 3 # minimum number of samples needed to form a neighborhood\n",
    "eps = 1.0\n",
    "metric = 'euclidean'\n",
    "\n",
    "dbscan = DBSCAN(eps = eps, min_samples = min_samples, metric = metric)\n"
   ]
  }
 ],
 "metadata": {
  "kernelspec": {
   "display_name": "Python 3 (ipykernel)",
   "language": "python",
   "name": "python3"
  },
  "language_info": {
   "codemirror_mode": {
    "name": "ipython",
    "version": 3
   },
   "file_extension": ".py",
   "mimetype": "text/x-python",
   "name": "python",
   "nbconvert_exporter": "python",
   "pygments_lexer": "ipython3",
   "version": "3.12.7"
  }
 },
 "nbformat": 4,
 "nbformat_minor": 5
}
