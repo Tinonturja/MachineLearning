{
 "cells": [
  {
   "cell_type": "code",
   "execution_count": 4,
   "id": "d4d56a06-e7f2-4e89-925f-11a3137188aa",
   "metadata": {},
   "outputs": [],
   "source": [
    "import numpy as np\n",
    "import pandas as pd\n",
    "import matplotlib.pyplot as plt\n",
    "%matplotlib inline\n",
    "from matplotlib import cm\n",
    "from matplotlib.patches import Patch\n",
    "\n",
    "from sklearn.preprocessing import StandardScaler\n",
    "from sklearn.model_selection import train_test_split\n",
    "from sklearn.cluster import KMeans\n",
    "from sklearn.metrics import silhouette_score, silhouette_samples, davies_bouldin_score\n",
    "from sklearn.datasets import make_blobs\n",
    "from sklearn.datasets import make_classification\n",
    "\n",
    "import warnings\n",
    "warnings.filterwarnings('ignore')"
   ]
  },
  {
   "cell_type": "markdown",
   "id": "0ab65407-af1c-4105-adc9-e1f81717c442",
   "metadata": {},
   "source": [
    "## Clustering Evaluation Function"
   ]
  },
  {
   "cell_type": "code",
   "execution_count": 22,
   "id": "e0d2842c-6b5d-4db5-ac08-2b61c18df8e4",
   "metadata": {},
   "outputs": [],
   "source": [
    "def evaluate_clustering(X, labels, n_cluster, ax = None, title_suffix = ''):\n",
    "\n",
    "    \"\"\"\n",
    "    Evaluate a clustering model based on silhoutte scores and the Davies-Bouldin index\n",
    "\n",
    "    parameters:\n",
    "    X(ndarray): Feature Matrix\n",
    "    labels (array_like): Cluster labels assigned to each sample\n",
    "    n_clusters(int): the number of clusters in the model\n",
    "    ax: The subplot axes to plot on\n",
    "    title_suffix (str): Optional suffix for plot titlec\n",
    "\n",
    "    Returns:\n",
    "    silhoutte score: Predicts how does the model perform (ranges -1 to 1)\n",
    "    1--> model has done excellent\n",
    "    0--> model did a moderate performance\n",
    "    -1--> model has done the worst\n",
    "    \"\"\"\n",
    "\n",
    "    if ax is None:\n",
    "        ax = plt.gca() # Get the current axis if none is provided\n",
    "\n",
    "    # Calculate silhoutte score:\n",
    "    silhouette_avg =silhouette_score(X,labels)\n",
    "    sample_silhouette_values = silhouette_samples(X, labels)\n",
    "\n",
    "\n",
    "    # plot silhouette analysis on the provided axis\n",
    "    unique_labels = np.unique(labels)\n",
    "    colormap =cm.tab10\n",
    "\n",
    "    color_dict = {label:colormap(float(label)/n_clusters) for label in unique_labels}\n",
    "    y_lower = 10\n",
    "\n",
    "    for i in unique_labels:\n",
    "        ith_cluster_silhouette_values = sample_silhouette_values[labels ==i]\n",
    "        ith_cluster_silhouette_values.sort()\n",
    "\n",
    "        print(f\"ith cluster silhouette values shape: {ith_cluster_silhouette_values.shape}\")\n",
    "        size_cluster_i = ith_cluster_silhoutte_values.shape[0]\n",
    "\n",
    "        y_upper = y_lower + size_cluster_i\n",
    "\n",
    "\n",
    "        color = color_dict[i]\n",
    "\n",
    "        ax.fill_betweenx(np.arange(y_lower, y_upper),\n",
    "                        0, ith_cluster_silhouette_values,\n",
    "                        facecolor = color, edgecolor = color, alpha = 0.7)\n",
    "\n",
    "        ax.text(-0.05, y_lower+0.5 * size_cluster_i, str(i))\n",
    "        y_lower = y_upper+10\n",
    "\n",
    "    ax.set_title(f'Silhouette Score for {title_suffix} \\n' + \n",
    "                 f'Average Silhouette: {silhouette_avg:.2f}')\n",
    "    ax.set_xlabel('Silhouette Coefficient')\n",
    "    ax.set_ylabel('Cluster')\n",
    "    ax.axvline(x=silhouette_avg, color=\"red\", linestyle=\"--\")\n",
    "    ax.set_xlim([-0.25, 1])  # Set the x-axis range to [0, 1]\n",
    "\n",
    "    ax.set_yticks([])\n",
    "\n",
    "        \n",
    "    "
   ]
  },
  {
   "cell_type": "code",
   "execution_count": 8,
   "id": "4e5492a2-ab3a-4511-bd37-da36133068e9",
   "metadata": {},
   "outputs": [
    {
     "data": {
      "text/plain": [
       "'\\ndef evaluate_clustering(X,labels, n_cluster, ax = None ):\\n\\n    \\n    \\n\\n\\n    # avg silhoutte score\\n    if ax is None:\\n        ax = plt.gca()\\n    silhouette_avg = silhouette_score(X, labels)\\n    silhouette_score = silhouette_samples(X, labels)\\n\\n    unique_labels = np.unique(labels)\\n\\n    color = cm.tab10\\n    color_dict = {label: color(float(label)/n_cluster) for label in unique_labels}\\n    y_lower = 10\\n\\n    # now for each unique label in the clusters, we would assign them a different color, and plot them.\\n    for i in unique_labels:\\n\\n        # get their silhouette score and sort them\\n        y_lower = 10\\n\\n        ith_silhouette_score = silhouette_score(labels ==i)\\n        ith_silhouette_score.sort()\\n\\n        # now assign a color to the cluster\\n        color_code = color[i]\\n\\n        cluster_size = ith_silhouette_score.shape[0]\\n        y_upper = y_lower + cluster_size\\n        ax.fill_betweenx(np.arange(y_lower, y_upper),\\n                        0, ith_silhouette_score,\\n                        facecolor = color_code,edgecolor = color_code,\\n                        alpha = 0.7)\\n\\n        ax.text(-0.05,y_lower + 0.5*cluster_size,str(i))\\n        y_lower = y_upper+10\\n\\n        \\n'"
      ]
     },
     "execution_count": 8,
     "metadata": {},
     "output_type": "execute_result"
    }
   ],
   "source": [
    "\"\"\"\n",
    "def evaluate_clustering(X,labels, n_cluster, ax = None ):\n",
    "\n",
    "    \n",
    "    \n",
    "\n",
    "\n",
    "    # avg silhoutte score\n",
    "    if ax is None:\n",
    "        ax = plt.gca()\n",
    "    silhouette_avg = silhouette_score(X, labels)\n",
    "    silhouette_score = silhouette_samples(X, labels)\n",
    "\n",
    "    unique_labels = np.unique(labels)\n",
    "\n",
    "    color = cm.tab10\n",
    "    color_dict = {label: color(float(label)/n_cluster) for label in unique_labels}\n",
    "    y_lower = 10\n",
    "\n",
    "    # now for each unique label in the clusters, we would assign them a different color, and plot them.\n",
    "    for i in unique_labels:\n",
    "\n",
    "        # get their silhouette score and sort them\n",
    "        y_lower = 10\n",
    "\n",
    "        ith_silhouette_score = silhouette_score(labels ==i)\n",
    "        ith_silhouette_score.sort()\n",
    "\n",
    "        # now assign a color to the cluster\n",
    "        color_code = color[i]\n",
    "\n",
    "        cluster_size = ith_silhouette_score.shape[0]\n",
    "        y_upper = y_lower + cluster_size\n",
    "        ax.fill_betweenx(np.arange(y_lower, y_upper),\n",
    "                        0, ith_silhouette_score,\n",
    "                        facecolor = color_code,edgecolor = color_code,\n",
    "                        alpha = 0.7)\n",
    "\n",
    "        ax.text(-0.05,y_lower + 0.5*cluster_size,str(i))\n",
    "        y_lower = y_upper+10\n",
    "\n",
    "        \n",
    "\"\"\""
   ]
  },
  {
   "cell_type": "markdown",
   "id": "9917ac17-9977-46e2-b3f4-d219b13c4f03",
   "metadata": {},
   "source": [
    "## Clustering Synthetic Data with four blobs to experiment with k-means clustering"
   ]
  },
  {
   "cell_type": "code",
   "execution_count": 23,
   "id": "5ef81f0c-d646-4a2c-9b11-72597ccf07ea",
   "metadata": {},
   "outputs": [
    {
     "name": "stdout",
     "output_type": "stream",
     "text": [
      "ith cluster silhouette values shape: (126,)\n"
     ]
    },
    {
     "ename": "NameError",
     "evalue": "name 'ith_cluster_silhoutte_values' is not defined",
     "output_type": "error",
     "traceback": [
      "\u001b[0;31m---------------------------------------------------------------------------\u001b[0m",
      "\u001b[0;31mNameError\u001b[0m                                 Traceback (most recent call last)",
      "Cell \u001b[0;32mIn[23], line 56\u001b[0m\n\u001b[1;32m     54\u001b[0m \u001b[38;5;66;03m# Evaluate the clustering\u001b[39;00m\n\u001b[1;32m     55\u001b[0m plt\u001b[38;5;241m.\u001b[39msubplot(\u001b[38;5;241m1\u001b[39m,\u001b[38;5;241m3\u001b[39m,\u001b[38;5;241m3\u001b[39m)\n\u001b[0;32m---> 56\u001b[0m evaluate_clustering(X, y_means, n_clusters, title_suffix\u001b[38;5;241m=\u001b[39m\u001b[38;5;124m'\u001b[39m\u001b[38;5;124mk-Means Clustering\u001b[39m\u001b[38;5;124m'\u001b[39m)\n\u001b[1;32m     57\u001b[0m plt\u001b[38;5;241m.\u001b[39mshow()\n",
      "Cell \u001b[0;32mIn[22], line 40\u001b[0m, in \u001b[0;36mevaluate_clustering\u001b[0;34m(X, labels, n_cluster, ax, title_suffix)\u001b[0m\n\u001b[1;32m     37\u001b[0m ith_cluster_silhouette_values\u001b[38;5;241m.\u001b[39msort()\n\u001b[1;32m     39\u001b[0m \u001b[38;5;28mprint\u001b[39m(\u001b[38;5;124mf\u001b[39m\u001b[38;5;124m\"\u001b[39m\u001b[38;5;124mith cluster silhouette values shape: \u001b[39m\u001b[38;5;132;01m{\u001b[39;00mith_cluster_silhouette_values\u001b[38;5;241m.\u001b[39mshape\u001b[38;5;132;01m}\u001b[39;00m\u001b[38;5;124m\"\u001b[39m)\n\u001b[0;32m---> 40\u001b[0m size_cluster_i \u001b[38;5;241m=\u001b[39m ith_cluster_silhoutte_values\u001b[38;5;241m.\u001b[39mshape[\u001b[38;5;241m0\u001b[39m]\n\u001b[1;32m     42\u001b[0m y_upper \u001b[38;5;241m=\u001b[39m y_lower \u001b[38;5;241m+\u001b[39m size_cluster_i\n\u001b[1;32m     45\u001b[0m color \u001b[38;5;241m=\u001b[39m color_dict[i]\n",
      "\u001b[0;31mNameError\u001b[0m: name 'ith_cluster_silhoutte_values' is not defined"
     ]
    }
   ],
   "source": [
    "X,y = make_blobs(n_samples = 500, n_features = 2, centers = 4, cluster_std = [1.0, 3,5,2], random_state =42)\n",
    "\n",
    "n_clusters = 4\n",
    "kmeans = KMeans(n_clusters =n_clusters, random_state = 42)\n",
    "y_means = kmeans.fit_predict(X)\n",
    "\n",
    "colormap = cm.tab10\n",
    "\n",
    "# plot the blobs\n",
    "plt.figure(figsize = (18,6))\n",
    "plt.subplot(1,3,1)\n",
    "plt.scatter(X[:,0], X[:,1], s = 50, alpha = 0.6, edgecolor = 'k')\n",
    "centers = kmeans.cluster_centers_\n",
    "plt.scatter(centers[:,0], centers[:,1], c = 'r', marker = 'x', s = 200, alpha = 0.9, label= 'centroids')\n",
    "plt.title(f'Synthetic blobs with {n_clusters} clusters')\n",
    "plt.xlabel('Feature 1')\n",
    "plt.ylabel('Feature 2')\n",
    "plt.legend()\n",
    "\n",
    "\n",
    "\n",
    "\n",
    "\n",
    "colors = colormap(y_means.astype(float)/n_clusters)\n",
    "\n",
    "plt.subplot(1,3,2)\n",
    "plt.scatter(X[:,0], X[:,1], c = colors, s = 50, alpha = 0.6, edgecolor = 'k')\n",
    "\n",
    "# label the clusters\n",
    "centers = kmeans.cluster_centers_\n",
    "# Draw white circle at cluster centers\n",
    "plt.scatter(\n",
    "    centers[:,0],\n",
    "    centers[:,1],\n",
    "    marker = \"o\",\n",
    "    c = 'white',\n",
    "    alpha = 1,\n",
    "    s = 200,\n",
    "    edgecolor = 'k',\n",
    "    label = 'Centroids'\n",
    "    \n",
    ")\n",
    "\n",
    "# Label the cluster number\n",
    "for i, c in enumerate(centers):\n",
    "    plt.scatter(c[0], c[1], marker = '$%d$'%i, alpha = 1, s = 50, edgecolor = 'k')\n",
    "\n",
    "plt.title(f'KMeans Clustering with {n_clusters} clusters')\n",
    "plt.xlabel('Feature1')\n",
    "plt.ylabel('Feature 2')\n",
    "plt.legend()\n",
    "\n",
    "\n",
    "# Evaluate the clustering\n",
    "plt.subplot(1,3,3)\n",
    "evaluate_clustering(X, y_means, n_clusters, title_suffix='k-Means Clustering')\n",
    "plt.show()"
   ]
  },
  {
   "cell_type": "code",
   "execution_count": 16,
   "id": "d5ad2d03-ddd9-47cb-a932-4478f7845f72",
   "metadata": {},
   "outputs": [
    {
     "data": {
      "text/plain": [
       "array([[ 4.9702268 ,  1.42039633],\n",
       "       [-9.00848208,  6.9018064 ],\n",
       "       [-7.61517055, -8.50511565],\n",
       "       [-2.61664134,  8.9306011 ]])"
      ]
     },
     "execution_count": 16,
     "metadata": {},
     "output_type": "execute_result"
    }
   ],
   "source": [
    "centers"
   ]
  },
  {
   "cell_type": "code",
   "execution_count": null,
   "id": "77c41ee0-230a-40ce-b6ef-17737f927b2a",
   "metadata": {},
   "outputs": [],
   "source": []
  }
 ],
 "metadata": {
  "kernelspec": {
   "display_name": "Python 3 (ipykernel)",
   "language": "python",
   "name": "python3"
  },
  "language_info": {
   "codemirror_mode": {
    "name": "ipython",
    "version": 3
   },
   "file_extension": ".py",
   "mimetype": "text/x-python",
   "name": "python",
   "nbconvert_exporter": "python",
   "pygments_lexer": "ipython3",
   "version": "3.12.7"
  }
 },
 "nbformat": 4,
 "nbformat_minor": 5
}
